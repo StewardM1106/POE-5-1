{
  "nbformat": 4,
  "nbformat_minor": 0,
  "metadata": {
    "colab": {
      "name": "IMC",
      "provenance": [],
      "authorship_tag": "ABX9TyMV2R0yhj5bALeMQi8uECWY",
      "include_colab_link": true
    },
    "kernelspec": {
      "name": "python3",
      "display_name": "Python 3"
    },
    "language_info": {
      "name": "python"
    }
  },
  "cells": [
    {
      "cell_type": "markdown",
      "metadata": {
        "id": "view-in-github",
        "colab_type": "text"
      },
      "source": [
        "<a href=\"https://colab.research.google.com/github/StewardM1106/POE-5-1/blob/Untitled0.ipynb/IMC.ipynb\" target=\"_parent\"><img src=\"https://colab.research.google.com/assets/colab-badge.svg\" alt=\"Open In Colab\"/></a>"
      ]
    },
    {
      "cell_type": "code",
      "execution_count": 4,
      "metadata": {
        "colab": {
          "base_uri": "https://localhost:8080/"
        },
        "cellView": "form",
        "id": "u4iUHkVk33jW",
        "outputId": "bb9bfe22-dc53-42fd-80bc-c2f8f901e3fc"
      },
      "outputs": [
        {
          "output_type": "stream",
          "name": "stdout",
          "text": [
            "24.221453287197235\n"
          ]
        }
      ],
      "source": [
        "#@title Calculo del indice de masa corporal: { run: \"auto\", vertical-output: true }\n",
        "Estatura =  1.70#@param {type:\"number\"}\n",
        "peso =  70#@param {type:\"number\"}\n",
        "print((peso)/(Estatura*Estatura))\n"
      ]
    }
  ]
}